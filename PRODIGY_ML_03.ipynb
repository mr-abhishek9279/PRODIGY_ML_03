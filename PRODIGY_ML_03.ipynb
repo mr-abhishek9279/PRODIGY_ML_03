{
 "cells": [
  {
   "cell_type": "markdown",
   "metadata": {
    "id": "KzhedTwnMN2q"
   },
   "source": [
    "### **PROBLEM STATEMENT:-**\n",
    "#### Implement a support vector machine (SVM) to classify images of cats and dogs from the Kaggle dataset."
   ]
  },
  {
   "cell_type": "code",
   "execution_count": 1,
   "metadata": {
    "colab": {
     "base_uri": "https://localhost:8080/"
    },
    "id": "JgsPKdd_G2Fd",
    "outputId": "e346d85d-b620-49e0-81d2-836bd9bf6766"
   },
   "outputs": [
    {
     "name": "stdout",
     "output_type": "stream",
     "text": [
      "Mounted at /content/drive\n"
     ]
    }
   ],
   "source": [
    "from google.colab import drive\n",
    "drive.mount('/content/drive')"
   ]
  },
  {
   "cell_type": "code",
   "execution_count": null,
   "metadata": {
    "id": "npss1wvJHMuo"
   },
   "outputs": [],
   "source": [
    "!unzip /content/drive/MyDrive/archive.zip"
   ]
  },
  {
   "cell_type": "code",
   "execution_count": 4,
   "metadata": {
    "id": "5DP-bunjxej9"
   },
   "outputs": [],
   "source": [
    "import pandas as pd\n",
    "import numpy as np\n",
    "import tensorflow as tf\n",
    "\n",
    "import warnings\n",
    "warnings.filterwarnings('ignore')"
   ]
  },
  {
   "cell_type": "code",
   "execution_count": 5,
   "metadata": {
    "id": "CmgxYxcvxpqW"
   },
   "outputs": [],
   "source": [
    "from tensorflow.compat.v1 import ConfigProto\n",
    "from tensorflow.compat.v1 import InteractiveSession\n",
    "\n",
    "config = ConfigProto()\n",
    "config.gpu_options.per_process_gpu_memory_fraction = 0.6\n",
    "config.gpu_options.allow_growth = True\n",
    "session = InteractiveSession(config=config)"
   ]
  },
  {
   "cell_type": "code",
   "execution_count": 6,
   "metadata": {
    "colab": {
     "base_uri": "https://localhost:8080/"
    },
    "id": "IHBY5PtBxpn9",
    "outputId": "861b1bcb-df26-44f2-f06d-71630112f7f1"
   },
   "outputs": [
    {
     "name": "stdout",
     "output_type": "stream",
     "text": [
      "Found 8005 images belonging to 1 classes.\n"
     ]
    }
   ],
   "source": [
    "from tensorflow.keras.preprocessing.image import ImageDataGenerator\n",
    "\n",
    "datagen = ImageDataGenerator(rescale=1./255, shear_range=0.2, zoom_range=0.2, horizontal_flip=True)\n",
    "\n",
    "training_set = datagen.flow_from_directory(\n",
    "        \"/content/training_set\",\n",
    "        target_size=(64, 64),\n",
    "        batch_size=32,\n",
    "        class_mode=\"binary\"\n",
    "      )"
   ]
  },
  {
   "cell_type": "code",
   "execution_count": 7,
   "metadata": {
    "colab": {
     "base_uri": "https://localhost:8080/"
    },
    "id": "NpaLgsofxpT9",
    "outputId": "21a97803-e3be-4a03-e7b7-7574d815355e"
   },
   "outputs": [
    {
     "name": "stdout",
     "output_type": "stream",
     "text": [
      "Found 2023 images belonging to 1 classes.\n"
     ]
    }
   ],
   "source": [
    "datagen1 = ImageDataGenerator(rescale=1./255)\n",
    "\n",
    "test_set = datagen1.flow_from_directory(\n",
    "        \"/content/test_set\",\n",
    "        target_size=(64, 64),\n",
    "        batch_size=32,\n",
    "        class_mode=\"binary\"\n",
    "      )"
   ]
  },
  {
   "cell_type": "code",
   "execution_count": 8,
   "metadata": {
    "id": "775q3zoTF7uY"
   },
   "outputs": [],
   "source": [
    "from tensorflow.keras.layers import Conv2D\n",
    "from tensorflow.keras.layers import Dense\n",
    "from tensorflow.keras.regularizers import l2"
   ]
  },
  {
   "cell_type": "code",
   "execution_count": 9,
   "metadata": {
    "id": "sxhR8vThGA8w"
   },
   "outputs": [],
   "source": [
    "cnn = tf.keras.models.Sequential()"
   ]
  },
  {
   "cell_type": "code",
   "execution_count": 10,
   "metadata": {
    "id": "muAhx2YoGDmw"
   },
   "outputs": [],
   "source": [
    "cnn.add(tf.keras.layers.Conv2D(filters=32,padding=\"same\",kernel_size=3, activation='relu', strides=2, input_shape=[64, 64, 3]))"
   ]
  },
  {
   "cell_type": "code",
   "execution_count": 11,
   "metadata": {
    "id": "8lEDqh28GGmA"
   },
   "outputs": [],
   "source": [
    "cnn.add(tf.keras.layers.MaxPool2D(pool_size=2, strides=2))"
   ]
  },
  {
   "cell_type": "code",
   "execution_count": 12,
   "metadata": {
    "id": "EcXx932aGIQg"
   },
   "outputs": [],
   "source": [
    "cnn.add(tf.keras.layers.Conv2D(filters=32,padding='same',kernel_size=3, activation='relu'))\n",
    "cnn.add(tf.keras.layers.MaxPool2D(pool_size=2, strides=2))"
   ]
  },
  {
   "cell_type": "code",
   "execution_count": 13,
   "metadata": {
    "id": "mdPePVPYGKbJ"
   },
   "outputs": [],
   "source": [
    "cnn.add(tf.keras.layers.Flatten())"
   ]
  },
  {
   "cell_type": "code",
   "execution_count": 14,
   "metadata": {
    "id": "39wP5ZtjGK1I"
   },
   "outputs": [],
   "source": [
    "cnn.add(tf.keras.layers.Dense(units=128, activation='relu'))"
   ]
  },
  {
   "cell_type": "code",
   "execution_count": 15,
   "metadata": {
    "id": "rlJafZmkGLGv"
   },
   "outputs": [],
   "source": [
    "cnn.add(Dense(1, kernel_regularizer=tf.keras.regularizers.l2(0.01),activation\n",
    "             ='linear'))"
   ]
  },
  {
   "cell_type": "code",
   "execution_count": 16,
   "metadata": {
    "colab": {
     "base_uri": "https://localhost:8080/"
    },
    "id": "-prz7Ot1GPJw",
    "outputId": "dd0e296f-9a17-47a9-8c3a-59ec21114314"
   },
   "outputs": [
    {
     "name": "stdout",
     "output_type": "stream",
     "text": [
      "Model: \"sequential\"\n",
      "_________________________________________________________________\n",
      " Layer (type)                Output Shape              Param #   \n",
      "=================================================================\n",
      " conv2d (Conv2D)             (None, 32, 32, 32)        896       \n",
      "                                                                 \n",
      " max_pooling2d (MaxPooling2  (None, 16, 16, 32)        0         \n",
      " D)                                                              \n",
      "                                                                 \n",
      " conv2d_1 (Conv2D)           (None, 16, 16, 32)        9248      \n",
      "                                                                 \n",
      " max_pooling2d_1 (MaxPoolin  (None, 8, 8, 32)          0         \n",
      " g2D)                                                            \n",
      "                                                                 \n",
      " flatten (Flatten)           (None, 2048)              0         \n",
      "                                                                 \n",
      " dense (Dense)               (None, 128)               262272    \n",
      "                                                                 \n",
      " dense_1 (Dense)             (None, 1)                 129       \n",
      "                                                                 \n",
      "=================================================================\n",
      "Total params: 272545 (1.04 MB)\n",
      "Trainable params: 272545 (1.04 MB)\n",
      "Non-trainable params: 0 (0.00 Byte)\n",
      "_________________________________________________________________\n"
     ]
    }
   ],
   "source": [
    "cnn.summary()"
   ]
  },
  {
   "cell_type": "code",
   "execution_count": 17,
   "metadata": {
    "id": "7buTLBTNGQkY"
   },
   "outputs": [],
   "source": [
    "cnn.compile(optimizer = 'adam', loss = 'hinge', metrics = ['accuracy'])"
   ]
  },
  {
   "cell_type": "code",
   "execution_count": 18,
   "metadata": {
    "colab": {
     "base_uri": "https://localhost:8080/"
    },
    "id": "kYwUFziTGWqg",
    "outputId": "d8435ffd-4cb6-42c5-d4e8-b3fef47a6a68"
   },
   "outputs": [
    {
     "name": "stdout",
     "output_type": "stream",
     "text": [
      "Epoch 1/15\n",
      "251/251 [==============================] - 30s 94ms/step - loss: 0.0146 - accuracy: 1.0000 - val_loss: 0.0054 - val_accuracy: 1.0000\n",
      "Epoch 2/15\n",
      "251/251 [==============================] - 22s 88ms/step - loss: 0.0033 - accuracy: 1.0000 - val_loss: 0.0019 - val_accuracy: 1.0000\n",
      "Epoch 3/15\n",
      "251/251 [==============================] - 22s 89ms/step - loss: 0.0012 - accuracy: 1.0000 - val_loss: 6.4476e-04 - val_accuracy: 1.0000\n",
      "Epoch 4/15\n",
      "251/251 [==============================] - 22s 89ms/step - loss: 4.1040e-04 - accuracy: 1.0000 - val_loss: 2.8819e-04 - val_accuracy: 1.0000\n",
      "Epoch 5/15\n",
      "251/251 [==============================] - 21s 84ms/step - loss: 1.4516e-04 - accuracy: 1.0000 - val_loss: 6.3352e-05 - val_accuracy: 1.0000\n",
      "Epoch 6/15\n",
      "251/251 [==============================] - 22s 89ms/step - loss: 3.2998e-05 - accuracy: 1.0000 - val_loss: 1.3757e-05 - val_accuracy: 1.0000\n",
      "Epoch 7/15\n",
      "251/251 [==============================] - 21s 86ms/step - loss: 2.0593e-04 - accuracy: 1.0000 - val_loss: 1.1597e-04 - val_accuracy: 1.0000\n",
      "Epoch 8/15\n",
      "251/251 [==============================] - 23s 91ms/step - loss: 6.4464e-05 - accuracy: 1.0000 - val_loss: 3.1236e-05 - val_accuracy: 1.0000\n",
      "Epoch 9/15\n",
      "251/251 [==============================] - 23s 90ms/step - loss: 1.7292e-05 - accuracy: 1.0000 - val_loss: 8.1065e-06 - val_accuracy: 1.0000\n",
      "Epoch 10/15\n",
      "251/251 [==============================] - 22s 86ms/step - loss: 4.3250e-06 - accuracy: 1.0000 - val_loss: 1.8776e-06 - val_accuracy: 1.0000\n",
      "Epoch 11/15\n",
      "251/251 [==============================] - 23s 90ms/step - loss: 2.3448e-04 - accuracy: 1.0000 - val_loss: 2.2165e-04 - val_accuracy: 1.0000\n",
      "Epoch 12/15\n",
      "251/251 [==============================] - 21s 85ms/step - loss: 1.4836e-04 - accuracy: 1.0000 - val_loss: 9.4527e-05 - val_accuracy: 1.0000\n",
      "Epoch 13/15\n",
      "251/251 [==============================] - 23s 91ms/step - loss: 6.4733e-05 - accuracy: 1.0000 - val_loss: 4.1573e-05 - val_accuracy: 1.0000\n",
      "Epoch 14/15\n",
      "251/251 [==============================] - 23s 91ms/step - loss: 2.8002e-05 - accuracy: 1.0000 - val_loss: 1.7561e-05 - val_accuracy: 1.0000\n",
      "Epoch 15/15\n",
      "251/251 [==============================] - 22s 89ms/step - loss: 1.1535e-05 - accuracy: 1.0000 - val_loss: 6.9315e-06 - val_accuracy: 1.0000\n"
     ]
    }
   ],
   "source": [
    "r=cnn.fit(x = training_set, validation_data = test_set, epochs = 15)"
   ]
  },
  {
   "cell_type": "code",
   "execution_count": 19,
   "metadata": {
    "colab": {
     "base_uri": "https://localhost:8080/",
     "height": 843
    },
    "id": "xkPnjMDCGXH4",
    "outputId": "06622560-393e-43a4-e3ff-b03c76f4aae9"
   },
   "outputs": [
    {
     "data": {
      "image/png": "[encoded data removed]",
      "text/plain": [
       "<Figure size 640x480 with 1 Axes>"
      ]
     },
     "metadata": {},
     "output_type": "display_data"
    },
    {
     "data": {
      "image/png": "[encoded data removed]",
      "text/plain": [
       "<Figure size 640x480 with 1 Axes>"
      ]
     },
     "metadata": {},
     "output_type": "display_data"
    }
   ],
   "source": [
    "# plot the loss\n",
    "import matplotlib.pyplot as plt\n",
    "plt.plot(r.history['loss'], label='train loss')\n",
    "plt.plot(r.history['val_loss'], label='val loss')\n",
    "plt.legend()\n",
    "plt.show()\n",
    "\n",
    "# plot the accuracy\n",
    "plt.plot(r.history['accuracy'], label='train acc')\n",
    "plt.plot(r.history['val_accuracy'], label='val acc')\n",
    "plt.legend()\n",
    "plt.show()"
   ]
  },
  {
   "cell_type": "code",
   "execution_count": 31,
   "metadata": {
    "colab": {
     "base_uri": "https://localhost:8080/",
     "height": 441
    },
    "id": "ye1veOEhGcLR",
    "outputId": "5f81e464-d7dc-491a-ba61-dd2820cd9112"
   },
   "outputs": [
    {
     "name": "stdout",
     "output_type": "stream",
     "text": [
      "1/1 [==============================] - 0s 18ms/step\n",
      "The image classified is cat\n"
     ]
    },
    {
     "data": {
      "image/png": "[encoded data removed]",
      "text/plain": [
       "<Figure size 640x480 with 1 Axes>"
      ]
     },
     "metadata": {},
     "output_type": "display_data"
    }
   ],
   "source": [
    "from matplotlib import pyplot as plt\n",
    "from tensorflow.keras.preprocessing import image\n",
    "timage = image.load_img('/content/test_set/test_set/cats/cat.4003.jpg', target_size = (64,64))\n",
    "test_image = image.img_to_array(timage)\n",
    "test_image=test_image/255\n",
    "test_image = np.expand_dims(test_image, axis = 0)\n",
    "result = cnn.predict(test_image)\n",
    "\n",
    "if result[0]<0:\n",
    "    print(\"The image classified is cat\")\n",
    "else:\n",
    "    print(\"The image classified is dog\")\n",
    "\n",
    "plt.imshow(timage)\n",
    "plt.axis('off')  # Turn off axis labels\n",
    "plt.show()"
   ]
  }
 ],
 "metadata": {
  "accelerator": "GPU",
  "colab": {
   "gpuType": "T4",
   "provenance": []
  },
  "kernelspec": {
   "display_name": "Python 3 (ipykernel)",
   "language": "python",
   "name": "python3"
  },
  "language_info": {
   "codemirror_mode": {
    "name": "ipython",
    "version": 3
   },
   "file_extension": ".py",
   "mimetype": "text/x-python",
   "name": "python",
   "nbconvert_exporter": "python",
   "pygments_lexer": "ipython3",
   "version": "3.9.12"
  }
 },
 "nbformat": 4,
 "nbformat_minor": 1
}
